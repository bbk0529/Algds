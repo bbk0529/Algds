{
 "cells": [
  {
   "cell_type": "code",
   "execution_count": 1,
   "metadata": {},
   "outputs": [],
   "source": [
    "P={\n",
    "    'a':3/8,\n",
    "    'b':5/16,\n",
    "    'c':3/32,\n",
    "    'd':1/16,\n",
    "    'e':1/16,\n",
    "    'f':1/32,\n",
    "    'g':1/32,\n",
    "    'h':1/32\n",
    "}"
   ]
  },
  {
   "cell_type": "code",
   "execution_count": 2,
   "metadata": {},
   "outputs": [
    {
     "data": {
      "text/plain": [
       "{'a': 0.375,\n",
       " 'b': 0.3125,\n",
       " 'c': 0.09375,\n",
       " 'd': 0.0625,\n",
       " 'e': 0.0625,\n",
       " 'f': 0.03125,\n",
       " 'g': 0.03125,\n",
       " 'h': 0.03125}"
      ]
     },
     "execution_count": 2,
     "metadata": {},
     "output_type": "execute_result"
    }
   ],
   "source": [
    "P"
   ]
  },
  {
   "cell_type": "code",
   "execution_count": 3,
   "metadata": {},
   "outputs": [
    {
     "data": {
      "text/plain": [
       "0.375"
      ]
     },
     "execution_count": 3,
     "metadata": {},
     "output_type": "execute_result"
    }
   ],
   "source": [
    "P['a']"
   ]
  },
  {
   "cell_type": "code",
   "execution_count": 5,
   "metadata": {},
   "outputs": [],
   "source": [
    "\n",
    "S='aa, ab, ba, bb, ac, ca, bc, cb, ad, ae, da, ea, bd, be, db, eb, af , ag, ah, fa, ga, ha, bf , bg, bh, fb, gb, hb'"
   ]
  },
  {
   "cell_type": "code",
   "execution_count": null,
   "metadata": {},
   "outputs": [],
   "source": []
  }
 ],
 "metadata": {
  "kernelspec": {
   "display_name": "Python 3",
   "language": "python",
   "name": "python3"
  },
  "language_info": {
   "codemirror_mode": {
    "name": "ipython",
    "version": 3
   },
   "file_extension": ".py",
   "mimetype": "text/x-python",
   "name": "python",
   "nbconvert_exporter": "python",
   "pygments_lexer": "ipython3",
   "version": "3.7.3"
  }
 },
 "nbformat": 4,
 "nbformat_minor": 2
}
