{
 "cells": [
  {
   "cell_type": "code",
   "execution_count": 14,
   "metadata": {},
   "outputs": [
    {
     "name": "stdout",
     "output_type": "stream",
     "text": [
      "1 1 1 1\n",
      "1 1 2 4\n",
      "1 1 3 9\n",
      "1 1 4 16\n",
      "1 1 5 25\n",
      "1 1 6 36\n",
      "2 4 1 1\n",
      "2 4 2 4\n",
      "2 4 3 9\n",
      "2 4 4 16\n",
      "2 4 5 25\n",
      "2 4 6 36\n",
      "3 9 1 1\n",
      "3 9 2 4\n",
      "3 9 3 9\n",
      "3 9 4 16\n",
      "3 9 5 25\n",
      "3 9 6 36\n",
      "4 16 1 1\n",
      "4 16 2 4\n",
      "4 16 3 9\n",
      "4 16 4 16\n",
      "4 16 5 25\n",
      "4 16 6 36\n",
      "5 25 1 1\n",
      "5 25 2 4\n",
      "5 25 3 9\n",
      "5 25 4 16\n",
      "5 25 5 25\n",
      "5 25 6 36\n",
      "6 36 1 1\n",
      "6 36 2 4\n",
      "6 36 3 9\n",
      "6 36 4 16\n",
      "6 36 5 25\n",
      "6 36 6 36\n"
     ]
    }
   ],
   "source": [
    "E=0\n",
    "for i in range(6) : \n",
    "    for j in range(6) : \n",
    "        print(i+1, (i+1)**2, j+1, (j+1)**2)\n",
    "        E+=(((i+1)*(j+1))**2*1/36)"
   ]
  },
  {
   "cell_type": "code",
   "execution_count": 15,
   "metadata": {},
   "outputs": [
    {
     "data": {
      "text/plain": [
       "230.02777777777777"
      ]
     },
     "execution_count": 15,
     "metadata": {},
     "output_type": "execute_result"
    }
   ],
   "source": [
    "E"
   ]
  },
  {
   "cell_type": "code",
   "execution_count": 8,
   "metadata": {},
   "outputs": [],
   "source": [
    "E=0\n",
    "for i in range(6) : \n",
    "    for j in range(6) : \n",
    "        E+=((i+1)*(j+1)*1/36)"
   ]
  },
  {
   "cell_type": "code",
   "execution_count": 10,
   "metadata": {},
   "outputs": [
    {
     "data": {
      "text/plain": [
       "12.250000000000002"
      ]
     },
     "execution_count": 10,
     "metadata": {},
     "output_type": "execute_result"
    }
   ],
   "source": [
    "E"
   ]
  },
  {
   "cell_type": "code",
   "execution_count": null,
   "metadata": {},
   "outputs": [],
   "source": []
  }
 ],
 "metadata": {
  "kernelspec": {
   "display_name": "Python 3",
   "language": "python",
   "name": "python3"
  },
  "language_info": {
   "codemirror_mode": {
    "name": "ipython",
    "version": 3
   },
   "file_extension": ".py",
   "mimetype": "text/x-python",
   "name": "python",
   "nbconvert_exporter": "python",
   "pygments_lexer": "ipython3",
   "version": "3.7.3"
  }
 },
 "nbformat": 4,
 "nbformat_minor": 2
}
