{
 "cells": [
  {
   "cell_type": "code",
   "execution_count": 1,
   "metadata": {},
   "outputs": [],
   "source": [
    "P={\n",
    "    'a':3/8,\n",
    "    'b':5/16,\n",
    "    'c':3/32,\n",
    "    'd':1/16,\n",
    "    'e':1/16,\n",
    "    'f':1/32,\n",
    "    'g':1/32,\n",
    "    'h':1/32\n",
    "}"
   ]
  },
  {
   "cell_type": "code",
   "execution_count": 2,
   "metadata": {},
   "outputs": [
    {
     "data": {
      "text/plain": [
       "{'a': 0.375,\n",
       " 'b': 0.3125,\n",
       " 'c': 0.09375,\n",
       " 'd': 0.0625,\n",
       " 'e': 0.0625,\n",
       " 'f': 0.03125,\n",
       " 'g': 0.03125,\n",
       " 'h': 0.03125}"
      ]
     },
     "execution_count": 2,
     "metadata": {},
     "output_type": "execute_result"
    }
   ],
   "source": [
    "P"
   ]
  },
  {
   "cell_type": "code",
   "execution_count": 3,
   "metadata": {},
   "outputs": [
    {
     "data": {
      "text/plain": [
       "0.375"
      ]
     },
     "execution_count": 3,
     "metadata": {},
     "output_type": "execute_result"
    }
   ],
   "source": [
    "P['a']"
   ]
  },
  {
   "cell_type": "code",
   "execution_count": 20,
   "metadata": {},
   "outputs": [],
   "source": [
    "\n",
    "S='aa, ab, ba, bb, ac, ca, bc, cb, ad, ae, da, ea, bd, be, db, eb, af , ag, ah, fa, ga, ha, bf , bg, bh, fb, gb, hb'"
   ]
  },
  {
   "cell_type": "code",
   "execution_count": 21,
   "metadata": {},
   "outputs": [
    {
     "data": {
      "text/plain": [
       "'aa, ab, ba, bb, ac, ca, bc, cb, ad, ae, da, ea, bd, be, db, eb, af , ag, ah, fa, ga, ha, bf , bg, bh, fb, gb, hb'"
      ]
     },
     "execution_count": 21,
     "metadata": {},
     "output_type": "execute_result"
    }
   ],
   "source": [
    "S"
   ]
  },
  {
   "cell_type": "code",
   "execution_count": 35,
   "metadata": {},
   "outputs": [],
   "source": [
    "S=S.replace(' ','').split(',')"
   ]
  },
  {
   "cell_type": "code",
   "execution_count": 41,
   "metadata": {},
   "outputs": [
    {
     "name": "stdout",
     "output_type": "stream",
     "text": [
      "0.140625\n",
      "0.1171875\n",
      "0.1171875\n",
      "0.09765625\n",
      "0.03515625\n",
      "0.03515625\n",
      "0.029296875\n",
      "0.029296875\n",
      "0.0234375\n",
      "0.0234375\n",
      "0.0234375\n",
      "0.0234375\n",
      "0.01953125\n",
      "0.01953125\n",
      "0.01953125\n",
      "0.01953125\n",
      "0.01171875\n",
      "0.01171875\n",
      "0.01171875\n",
      "0.01171875\n",
      "0.01171875\n",
      "0.01171875\n",
      "0.009765625\n",
      "0.009765625\n",
      "0.009765625\n",
      "0.009765625\n",
      "0.009765625\n",
      "0.009765625\n"
     ]
    }
   ],
   "source": [
    "SUM=0\n",
    "for s in S : \n",
    "    print(P[s[0]] * P[s[1]])\n",
    "    SUM+= P[s[0]] * P[s[1]]"
   ]
  },
  {
   "cell_type": "code",
   "execution_count": 42,
   "metadata": {},
   "outputs": [
    {
     "data": {
      "text/plain": [
       "0.90234375"
      ]
     },
     "execution_count": 42,
     "metadata": {},
     "output_type": "execute_result"
    }
   ],
   "source": [
    "SUM"
   ]
  },
  {
   "cell_type": "code",
   "execution_count": 45,
   "metadata": {},
   "outputs": [],
   "source": [
    "S='abcdefgh'"
   ]
  },
  {
   "cell_type": "code",
   "execution_count": 47,
   "metadata": {},
   "outputs": [
    {
     "name": "stdout",
     "output_type": "stream",
     "text": [
      "a a\n",
      "a b\n",
      "a c\n",
      "a d\n",
      "a e\n",
      "a f\n",
      "a g\n",
      "a h\n",
      "b a\n",
      "b b\n",
      "b c\n",
      "b d\n",
      "b e\n",
      "b f\n",
      "b g\n",
      "b h\n",
      "c a\n",
      "c b\n",
      "c c\n",
      "c d\n",
      "c e\n",
      "c f\n",
      "c g\n",
      "c h\n",
      "d a\n",
      "d b\n",
      "d c\n",
      "d d\n",
      "d e\n",
      "d f\n",
      "d g\n",
      "d h\n",
      "e a\n",
      "e b\n",
      "e c\n",
      "e d\n",
      "e e\n",
      "e f\n",
      "e g\n",
      "e h\n",
      "f a\n",
      "f b\n",
      "f c\n",
      "f d\n",
      "f e\n",
      "f f\n",
      "f g\n",
      "f h\n",
      "g a\n",
      "g b\n",
      "g c\n",
      "g d\n",
      "g e\n",
      "g f\n",
      "g g\n",
      "g h\n",
      "h a\n",
      "h b\n",
      "h c\n",
      "h d\n",
      "h e\n",
      "h f\n",
      "h g\n",
      "h h\n"
     ]
    }
   ],
   "source": [
    "X=[]\n",
    "for i in S : \n",
    "    for j in S :\n",
    "        print(i,j)\n",
    "        X.append([i,j])"
   ]
  },
  {
   "cell_type": "code",
   "execution_count": 49,
   "metadata": {},
   "outputs": [
    {
     "data": {
      "text/plain": [
       "64"
      ]
     },
     "execution_count": 49,
     "metadata": {},
     "output_type": "execute_result"
    }
   ],
   "source": [
    "len(X)"
   ]
  },
  {
   "cell_type": "code",
   "execution_count": 53,
   "metadata": {},
   "outputs": [
    {
     "name": "stdout",
     "output_type": "stream",
     "text": [
      "['a', 'a'] 0.140625\n",
      "['a', 'b'] 0.1171875\n",
      "['a', 'c'] 0.03515625\n",
      "['a', 'd'] 0.0234375\n",
      "['a', 'e'] 0.0234375\n",
      "['a', 'f'] 0.01171875\n",
      "['a', 'g'] 0.01171875\n",
      "['a', 'h'] 0.01171875\n",
      "['b', 'a'] 0.1171875\n",
      "['b', 'b'] 0.09765625\n",
      "['b', 'c'] 0.029296875\n",
      "['b', 'd'] 0.01953125\n",
      "['b', 'e'] 0.01953125\n",
      "['b', 'f'] 0.009765625\n",
      "['b', 'g'] 0.009765625\n",
      "['b', 'h'] 0.009765625\n",
      "['c', 'a'] 0.03515625\n",
      "['c', 'b'] 0.029296875\n",
      "['c', 'c'] 0.0087890625\n",
      "['c', 'd'] 0.005859375\n",
      "['c', 'e'] 0.005859375\n",
      "['c', 'f'] 0.0029296875\n",
      "['c', 'g'] 0.0029296875\n",
      "['c', 'h'] 0.0029296875\n",
      "['d', 'a'] 0.0234375\n",
      "['d', 'b'] 0.01953125\n",
      "['d', 'c'] 0.005859375\n",
      "['d', 'd'] 0.00390625\n",
      "['d', 'e'] 0.00390625\n",
      "['d', 'f'] 0.001953125\n",
      "['d', 'g'] 0.001953125\n",
      "['d', 'h'] 0.001953125\n",
      "['e', 'a'] 0.0234375\n",
      "['e', 'b'] 0.01953125\n",
      "['e', 'c'] 0.005859375\n",
      "['e', 'd'] 0.00390625\n",
      "['e', 'e'] 0.00390625\n",
      "['e', 'f'] 0.001953125\n",
      "['e', 'g'] 0.001953125\n",
      "['e', 'h'] 0.001953125\n",
      "['f', 'a'] 0.01171875\n",
      "['f', 'b'] 0.009765625\n",
      "['f', 'c'] 0.0029296875\n",
      "['f', 'd'] 0.001953125\n",
      "['f', 'e'] 0.001953125\n",
      "['f', 'f'] 0.0009765625\n",
      "['f', 'g'] 0.0009765625\n",
      "['f', 'h'] 0.0009765625\n",
      "['g', 'a'] 0.01171875\n",
      "['g', 'b'] 0.009765625\n",
      "['g', 'c'] 0.0029296875\n",
      "['g', 'd'] 0.001953125\n",
      "['g', 'e'] 0.001953125\n",
      "['g', 'f'] 0.0009765625\n",
      "['g', 'g'] 0.0009765625\n",
      "['g', 'h'] 0.0009765625\n",
      "['h', 'a'] 0.01171875\n",
      "['h', 'b'] 0.009765625\n",
      "['h', 'c'] 0.0029296875\n",
      "['h', 'd'] 0.001953125\n",
      "['h', 'e'] 0.001953125\n",
      "['h', 'f'] 0.0009765625\n",
      "['h', 'g'] 0.0009765625\n",
      "['h', 'h'] 0.0009765625\n"
     ]
    }
   ],
   "source": [
    "total=[]\n",
    "SUM=0\n",
    "for s in X : \n",
    "    #print(P[s[0]] * P[s[1]])\n",
    "    prob=P[s[0]] * P[s[1]]\n",
    "    print(s,prob)\n",
    "    total.append([s,prob])\n",
    "    SUM+= P[s[0]] * P[s[1]]"
   ]
  },
  {
   "cell_type": "code",
   "execution_count": 56,
   "metadata": {},
   "outputs": [],
   "source": [
    "import numpy as np\n",
    "total=np.array(total)"
   ]
  },
  {
   "cell_type": "code",
   "execution_count": 58,
   "metadata": {},
   "outputs": [],
   "source": [
    "import pandas as pd"
   ]
  },
  {
   "cell_type": "code",
   "execution_count": 61,
   "metadata": {},
   "outputs": [],
   "source": [
    "df=pd.DataFrame(total, columns=['X','prob'])"
   ]
  },
  {
   "cell_type": "code",
   "execution_count": 66,
   "metadata": {},
   "outputs": [],
   "source": [
    "df=df.sort_values(by='prob', ascending=False)"
   ]
  },
  {
   "cell_type": "code",
   "execution_count": 77,
   "metadata": {},
   "outputs": [
    {
     "data": {
      "text/plain": [
       "0.90234375"
      ]
     },
     "execution_count": 77,
     "metadata": {},
     "output_type": "execute_result"
    }
   ],
   "source": [
    "sum(df.iloc[:28,].prob)"
   ]
  },
  {
   "cell_type": "code",
   "execution_count": null,
   "metadata": {},
   "outputs": [],
   "source": []
  }
 ],
 "metadata": {
  "kernelspec": {
   "display_name": "Python 3",
   "language": "python",
   "name": "python3"
  },
  "language_info": {
   "codemirror_mode": {
    "name": "ipython",
    "version": 3
   },
   "file_extension": ".py",
   "mimetype": "text/x-python",
   "name": "python",
   "nbconvert_exporter": "python",
   "pygments_lexer": "ipython3",
   "version": "3.7.3"
  }
 },
 "nbformat": 4,
 "nbformat_minor": 2
}
