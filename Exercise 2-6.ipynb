{
 "cells": [
  {
   "cell_type": "code",
   "execution_count": 1,
   "metadata": {},
   "outputs": [],
   "source": [
    "import pandas as pd\n",
    "import numpy as np"
   ]
  },
  {
   "cell_type": "code",
   "execution_count": 115,
   "metadata": {},
   "outputs": [],
   "source": [
    "L=pd.DataFrame(\n",
    "    [\n",
    "        [1,1,0,0],\n",
    "        [0,1,1,1],\n",
    "        [1,0,1,1/2]\n",
    "    ],\n",
    "    index=[1,2,3],\n",
    "    columns=[1,2,3,4]\n",
    "     )"
   ]
  },
  {
   "cell_type": "code",
   "execution_count": 120,
   "metadata": {},
   "outputs": [],
   "source": [
    "W=pd.DataFrame([1,1,1], index=[1,2,3])"
   ]
  },
  {
   "cell_type": "code",
   "execution_count": 121,
   "metadata": {},
   "outputs": [],
   "source": [
    "sequence=[1,2,1,2,3,4]"
   ]
  },
  {
   "cell_type": "code",
   "execution_count": 122,
   "metadata": {},
   "outputs": [],
   "source": [
    "a=1/2"
   ]
  },
  {
   "cell_type": "code",
   "execution_count": 123,
   "metadata": {},
   "outputs": [
    {
     "name": "stdout",
     "output_type": "stream",
     "text": [
      "t= 1\n",
      "Event\t\tExpert\t\tOld Weight\tNew Weight\t(1-a)^Lij *w_it\n",
      "Evt : 1 \tExpt: 1 \tO_wgt 1 \tN_wght 0.5 \t(1-1/2)^1*1\n",
      "Evt : 1 \tExpt: 2 \tO_wgt 1 \tN_wght 1.0 \t(1-1/2)^0*1\n",
      "Evt : 1 \tExpt: 3 \tO_wgt 1 \tN_wght 0.5 \t(1-1/2)^1*1\n",
      "weight matrix for time[1] [0.5, 1.0, 0.5] \n",
      "\n",
      "t= 2\n",
      "Event\t\tExpert\t\tOld Weight\tNew Weight\t(1-a)^Lij *w_it\n",
      "Evt : 2 \tExpt: 1 \tO_wgt 0.5 \tN_wght 0.25 \t(1-1/2)^1*0.5\n",
      "Evt : 2 \tExpt: 2 \tO_wgt 1.0 \tN_wght 0.5 \t(1-1/2)^1*1.0\n",
      "Evt : 2 \tExpt: 3 \tO_wgt 0.5 \tN_wght 0.5 \t(1-1/2)^0*0.5\n",
      "weight matrix for time[2] [0.25, 0.5, 0.5] \n",
      "\n",
      "t= 3\n",
      "Event\t\tExpert\t\tOld Weight\tNew Weight\t(1-a)^Lij *w_it\n",
      "Evt : 1 \tExpt: 1 \tO_wgt 0.25 \tN_wght 0.125 \t(1-1/2)^1*0.25\n",
      "Evt : 1 \tExpt: 2 \tO_wgt 0.5 \tN_wght 0.5 \t(1-1/2)^0*0.5\n",
      "Evt : 1 \tExpt: 3 \tO_wgt 0.5 \tN_wght 0.25 \t(1-1/2)^1*0.5\n",
      "weight matrix for time[3] [0.125, 0.5, 0.25] \n",
      "\n",
      "t= 4\n",
      "Event\t\tExpert\t\tOld Weight\tNew Weight\t(1-a)^Lij *w_it\n",
      "Evt : 2 \tExpt: 1 \tO_wgt 0.125 \tN_wght 0.0625 \t(1-1/2)^1*0.125\n",
      "Evt : 2 \tExpt: 2 \tO_wgt 0.5 \tN_wght 0.25 \t(1-1/2)^1*0.5\n",
      "Evt : 2 \tExpt: 3 \tO_wgt 0.25 \tN_wght 0.25 \t(1-1/2)^0*0.25\n",
      "weight matrix for time[4] [0.0625, 0.25, 0.25] \n",
      "\n",
      "t= 5\n",
      "Event\t\tExpert\t\tOld Weight\tNew Weight\t(1-a)^Lij *w_it\n",
      "Evt : 3 \tExpt: 1 \tO_wgt 0.0625 \tN_wght 0.0625 \t(1-1/2)^0*0.0625\n",
      "Evt : 3 \tExpt: 2 \tO_wgt 0.25 \tN_wght 0.125 \t(1-1/2)^1*0.25\n",
      "Evt : 3 \tExpt: 3 \tO_wgt 0.25 \tN_wght 0.125 \t(1-1/2)^1*0.25\n",
      "weight matrix for time[5] [0.0625, 0.125, 0.125] \n",
      "\n",
      "t= 6\n",
      "Event\t\tExpert\t\tOld Weight\tNew Weight\t(1-a)^Lij *w_it\n",
      "Evt : 4 \tExpt: 1 \tO_wgt 0.0625 \tN_wght 0.0625 \t(1-1/2)^0.0*0.0625\n",
      "Evt : 4 \tExpt: 2 \tO_wgt 0.125 \tN_wght 0.0625 \t(1-1/2)^1.0*0.125\n",
      "Evt : 4 \tExpt: 3 \tO_wgt 0.125 \tN_wght 0.08838834764831845 \t(1-1/2)^0.5*0.125\n",
      "weight matrix for time[6] [0.0625, 0.0625, 0.08838834764831845] \n",
      "\n"
     ]
    }
   ],
   "source": [
    "for t in range(len(sequence)) :\n",
    "    print(\"t=\",t+1)\n",
    "    print(\"Event\\t\\tExpert\\t\\tOld Weight\\tNew Weight\\t(1-a)^Lij *w_it\")\n",
    "    w=[]\n",
    "    for i in [1,2,3] : \n",
    "        \n",
    "        n_weight=((1-a)**L.loc[i,sequence[t]])*W.loc[i,t]\n",
    "        print(\"Evt :\", sequence[t],\n",
    "              \"\\tExpt:\", i, \n",
    "              \"\\tO_wgt\",W.loc[i,t],\n",
    "              \"\\tN_wght\",n_weight,\n",
    "              \"\\t(1-1/2)^{}*{}\".format(L.loc[i,sequence[t]],W.loc[i,t])\n",
    "        )\n",
    "     \n",
    "        w.append(n_weight)\n",
    "    print(\"weight matrix for time[{}]\".format(t+1),w,\"\\n\")\n",
    "    W[t+1]=w"
   ]
  },
  {
   "cell_type": "code",
   "execution_count": 114,
   "metadata": {},
   "outputs": [
    {
     "data": {
      "text/plain": [
       "1    0.292893\n",
       "2    0.292893\n",
       "3    0.414214\n",
       "Name: 6, dtype: float64"
      ]
     },
     "execution_count": 114,
     "metadata": {},
     "output_type": "execute_result"
    }
   ],
   "source": [
    "W[6]/sum(W[6])"
   ]
  },
  {
   "cell_type": "code",
   "execution_count": 124,
   "metadata": {},
   "outputs": [
    {
     "data": {
      "text/html": [
       "<div>\n",
       "<style scoped>\n",
       "    .dataframe tbody tr th:only-of-type {\n",
       "        vertical-align: middle;\n",
       "    }\n",
       "\n",
       "    .dataframe tbody tr th {\n",
       "        vertical-align: top;\n",
       "    }\n",
       "\n",
       "    .dataframe thead th {\n",
       "        text-align: right;\n",
       "    }\n",
       "</style>\n",
       "<table border=\"1\" class=\"dataframe\">\n",
       "  <thead>\n",
       "    <tr style=\"text-align: right;\">\n",
       "      <th></th>\n",
       "      <th>1</th>\n",
       "      <th>2</th>\n",
       "      <th>3</th>\n",
       "      <th>4</th>\n",
       "    </tr>\n",
       "  </thead>\n",
       "  <tbody>\n",
       "    <tr>\n",
       "      <th>1</th>\n",
       "      <td>1</td>\n",
       "      <td>1</td>\n",
       "      <td>0</td>\n",
       "      <td>0.0</td>\n",
       "    </tr>\n",
       "    <tr>\n",
       "      <th>2</th>\n",
       "      <td>0</td>\n",
       "      <td>1</td>\n",
       "      <td>1</td>\n",
       "      <td>1.0</td>\n",
       "    </tr>\n",
       "    <tr>\n",
       "      <th>3</th>\n",
       "      <td>1</td>\n",
       "      <td>0</td>\n",
       "      <td>1</td>\n",
       "      <td>0.5</td>\n",
       "    </tr>\n",
       "  </tbody>\n",
       "</table>\n",
       "</div>"
      ],
      "text/plain": [
       "   1  2  3    4\n",
       "1  1  1  0  0.0\n",
       "2  0  1  1  1.0\n",
       "3  1  0  1  0.5"
      ]
     },
     "execution_count": 124,
     "metadata": {},
     "output_type": "execute_result"
    }
   ],
   "source": [
    "L"
   ]
  },
  {
   "cell_type": "code",
   "execution_count": null,
   "metadata": {},
   "outputs": [],
   "source": []
  }
 ],
 "metadata": {
  "kernelspec": {
   "display_name": "Python 3",
   "language": "python",
   "name": "python3"
  },
  "language_info": {
   "codemirror_mode": {
    "name": "ipython",
    "version": 3
   },
   "file_extension": ".py",
   "mimetype": "text/x-python",
   "name": "python",
   "nbconvert_exporter": "python",
   "pygments_lexer": "ipython3",
   "version": "3.7.3"
  }
 },
 "nbformat": 4,
 "nbformat_minor": 2
}
